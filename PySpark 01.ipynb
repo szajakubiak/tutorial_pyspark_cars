{
 "cells": [
  {
   "cell_type": "markdown",
   "id": "19ae5bac-682a-447e-8be7-30667c1a9df2",
   "metadata": {},
   "source": [
    "## Create a PySpark session"
   ]
  },
  {
   "cell_type": "code",
   "execution_count": 1,
   "id": "58685a1b-6a79-4b68-a238-c43d14e10710",
   "metadata": {},
   "outputs": [],
   "source": [
    "from pyspark.sql import SparkSession\n",
    "spark = SparkSession.builder.getOrCreate()"
   ]
  },
  {
   "cell_type": "markdown",
   "id": "79bfa47b-50b2-4407-85c5-c7d6cf2f099a",
   "metadata": {},
   "source": [
    "## Download sample data from [Kaggle](https://www.kaggle.com/austinreese/craigslist-carstrucks-data).\n",
    "\n",
    "Unpack the archive and rename the data file as ***vehicles.csv*** (if needed). It contains more than 400.000 used car offers from the Craigslist.org. There are 26 columns of with informations about each car, although not all were filled in by poster."
   ]
  },
  {
   "cell_type": "markdown",
   "id": "3143e277-63d6-4f2c-b52e-a9dbd0879ee0",
   "metadata": {},
   "source": [
    "## Define the schema for sample data\n",
    "\n",
    "Define the data type for each consecutive column. Information about supported data types can be found [here](https://spark.apache.org/docs/latest/sql-ref-datatypes.html)."
   ]
  },
  {
   "cell_type": "code",
   "execution_count": 2,
   "id": "af16340c-1214-43bd-aa1b-315e8d267fdc",
   "metadata": {},
   "outputs": [],
   "source": [
    "from pyspark.sql.types import StructType, DoubleType, StringType, IntegerType, DateType\n",
    "schema = StructType() \\\n",
    "      .add(\"id\",DoubleType(),True) \\\n",
    "      .add(\"url\",StringType(),True) \\\n",
    "      .add(\"region\",StringType(),True) \\\n",
    "      .add(\"region_url\",StringType(),True) \\\n",
    "      .add(\"price\",IntegerType(),True) \\\n",
    "      .add(\"year\",IntegerType(),True) \\\n",
    "      .add(\"manufacturer\",StringType(),True) \\\n",
    "      .add(\"model\",StringType(),True) \\\n",
    "      .add(\"condition\",StringType(),True) \\\n",
    "      .add(\"cylinders\",StringType(),True) \\\n",
    "      .add(\"fuel\",StringType(),True) \\\n",
    "      .add(\"odometer\",DoubleType(),True) \\\n",
    "      .add(\"title_status\",StringType(),True) \\\n",
    "      .add(\"transmission\",StringType(),True) \\\n",
    "      .add(\"VIN\",StringType(),True) \\\n",
    "      .add(\"drive\",StringType(),True) \\\n",
    "      .add(\"size\",StringType(),True) \\\n",
    "      .add(\"type\",StringType(),True) \\\n",
    "      .add(\"paint_color\",StringType(),True) \\\n",
    "      .add(\"image_url\",StringType(),True) \\\n",
    "      .add(\"description\",StringType(),True) \\\n",
    "      .add(\"county\",StringType(),True) \\\n",
    "      .add(\"state\",StringType(),True) \\\n",
    "      .add(\"lat\",DoubleType(),True) \\\n",
    "      .add(\"long\",DoubleType(),True) \\\n",
    "      .add(\"posting_date\",DateType(),True)"
   ]
  },
  {
   "cell_type": "markdown",
   "id": "f7808b91-848b-482a-9d90-82203c655137",
   "metadata": {},
   "source": [
    "## Read data from the file and create the DataFrame\n",
    "\n",
    "We need to read the data from the .csv file and create the DataFrame. As the file contains the header information for columns we add the appropriate option."
   ]
  },
  {
   "cell_type": "code",
   "execution_count": 3,
   "id": "24301d20-cd4d-4f44-8487-cbcb3a1c67b0",
   "metadata": {},
   "outputs": [],
   "source": [
    "raw_df = spark.read.option(\"header\", True) \\\n",
    "     .schema(schema) \\\n",
    "     .csv(\"vehicles.csv\")"
   ]
  },
  {
   "cell_type": "markdown",
   "id": "f6bad099-c6eb-4e36-bd19-4df9b429c179",
   "metadata": {},
   "source": [
    "As it was already mentioned this DataFrame is quite big. Let's display the first 10 records:"
   ]
  },
  {
   "cell_type": "code",
   "execution_count": 4,
   "id": "4ccf4dd3-eac1-42f5-b739-bce4ad40701f",
   "metadata": {},
   "outputs": [
    {
     "name": "stdout",
     "output_type": "stream",
     "text": [
      "+-------------+--------------------+--------------------+--------------------+-----+----+------------+-----+---------+---------+----+--------+------------+------------+----+-----+----+----+-----------+---------+-----------+------+-----+----+----+------------+\n",
      "|           id|                 url|              region|          region_url|price|year|manufacturer|model|condition|cylinders|fuel|odometer|title_status|transmission| VIN|drive|size|type|paint_color|image_url|description|county|state| lat|long|posting_date|\n",
      "+-------------+--------------------+--------------------+--------------------+-----+----+------------+-----+---------+---------+----+--------+------------+------------+----+-----+----+----+-----------+---------+-----------+------+-----+----+----+------------+\n",
      "|7.222695916E9|https://prescott....|            prescott|https://prescott....| 6000|null|        null| null|     null|     null|null|    null|        null|        null|null| null|null|null|       null|     null|       null|  null|   az|null|null|        null|\n",
      "|7.218891961E9|https://fayar.cra...|        fayetteville|https://fayar.cra...|11900|null|        null| null|     null|     null|null|    null|        null|        null|null| null|null|null|       null|     null|       null|  null|   ar|null|null|        null|\n",
      "|7.221797935E9|https://keys.crai...|        florida keys|https://keys.crai...|21000|null|        null| null|     null|     null|null|    null|        null|        null|null| null|null|null|       null|     null|       null|  null|   fl|null|null|        null|\n",
      "| 7.22227076E9|https://worcester...|worcester / centr...|https://worcester...| 1500|null|        null| null|     null|     null|null|    null|        null|        null|null| null|null|null|       null|     null|       null|  null|   ma|null|null|        null|\n",
      "| 7.21038403E9|https://greensbor...|          greensboro|https://greensbor...| 4900|null|        null| null|     null|     null|null|    null|        null|        null|null| null|null|null|       null|     null|       null|  null|   nc|null|null|        null|\n",
      "|7.222379453E9|https://hudsonval...|       hudson valley|https://hudsonval...| 1600|null|        null| null|     null|     null|null|    null|        null|        null|null| null|null|null|       null|     null|       null|  null|   ny|null|null|        null|\n",
      "|7.221952215E9|https://hudsonval...|       hudson valley|https://hudsonval...| 1000|null|        null| null|     null|     null|null|    null|        null|        null|null| null|null|null|       null|     null|       null|  null|   ny|null|null|        null|\n",
      "|7.220195662E9|https://hudsonval...|       hudson valley|https://hudsonval...|15995|null|        null| null|     null|     null|null|    null|        null|        null|null| null|null|null|       null|     null|       null|  null|   ny|null|null|        null|\n",
      "|7.209064557E9|https://medford.c...|     medford-ashland|https://medford.c...| 5000|null|        null| null|     null|     null|null|    null|        null|        null|null| null|null|null|       null|     null|       null|  null|   or|null|null|        null|\n",
      "|7.219485069E9|https://erie.crai...|                erie|https://erie.crai...| 3000|null|        null| null|     null|     null|null|    null|        null|        null|null| null|null|null|       null|     null|       null|  null|   pa|null|null|        null|\n",
      "+-------------+--------------------+--------------------+--------------------+-----+----+------------+-----+---------+---------+----+--------+------------+------------+----+-----+----+----+-----------+---------+-----------+------+-----+----+----+------------+\n",
      "only showing top 10 rows\n",
      "\n"
     ]
    }
   ],
   "source": [
    "raw_df.show(10)"
   ]
  },
  {
   "cell_type": "markdown",
   "id": "486560c3-a6f9-4a9a-ac13-225a7229154c",
   "metadata": {},
   "source": [
    "Number of rows can be obtained using [count](https://spark.apache.org/docs/latest/api/python/reference/api/pyspark.sql.DataFrame.count.html) method:"
   ]
  },
  {
   "cell_type": "code",
   "execution_count": 5,
   "id": "819f3e99-e7cc-4c7b-b593-18b8b0cf7d3e",
   "metadata": {},
   "outputs": [
    {
     "data": {
      "text/plain": [
       "441802"
      ]
     },
     "execution_count": 5,
     "metadata": {},
     "output_type": "execute_result"
    }
   ],
   "source": [
    "raw_df.count()"
   ]
  },
  {
   "cell_type": "markdown",
   "id": "dd9ac42a-249b-45fb-92c2-65b807d99032",
   "metadata": {},
   "source": [
    "List the column names:"
   ]
  },
  {
   "cell_type": "code",
   "execution_count": 6,
   "id": "fef02a87-6354-4c49-a001-7c3f7a6ae9d3",
   "metadata": {},
   "outputs": [
    {
     "data": {
      "text/plain": [
       "['id',\n",
       " 'url',\n",
       " 'region',\n",
       " 'region_url',\n",
       " 'price',\n",
       " 'year',\n",
       " 'manufacturer',\n",
       " 'model',\n",
       " 'condition',\n",
       " 'cylinders',\n",
       " 'fuel',\n",
       " 'odometer',\n",
       " 'title_status',\n",
       " 'transmission',\n",
       " 'VIN',\n",
       " 'drive',\n",
       " 'size',\n",
       " 'type',\n",
       " 'paint_color',\n",
       " 'image_url',\n",
       " 'description',\n",
       " 'county',\n",
       " 'state',\n",
       " 'lat',\n",
       " 'long',\n",
       " 'posting_date']"
      ]
     },
     "execution_count": 6,
     "metadata": {},
     "output_type": "execute_result"
    }
   ],
   "source": [
    "raw_df.columns"
   ]
  },
  {
   "cell_type": "markdown",
   "id": "f450e7d2-09a5-4aca-aa6e-82b639a7e952",
   "metadata": {},
   "source": [
    "As there is so many columns it's hard to read the data. Let's display the first record in vertical mode:"
   ]
  },
  {
   "cell_type": "code",
   "execution_count": 7,
   "id": "86b36be7-404a-4548-b336-44202496a894",
   "metadata": {},
   "outputs": [
    {
     "name": "stdout",
     "output_type": "stream",
     "text": [
      "-RECORD 0----------------------------\n",
      " id           | 7.222695916E9        \n",
      " url          | https://prescott.... \n",
      " region       | prescott             \n",
      " region_url   | https://prescott.... \n",
      " price        | 6000                 \n",
      " year         | null                 \n",
      " manufacturer | null                 \n",
      " model        | null                 \n",
      " condition    | null                 \n",
      " cylinders    | null                 \n",
      " fuel         | null                 \n",
      " odometer     | null                 \n",
      " title_status | null                 \n",
      " transmission | null                 \n",
      " VIN          | null                 \n",
      " drive        | null                 \n",
      " size         | null                 \n",
      " type         | null                 \n",
      " paint_color  | null                 \n",
      " image_url    | null                 \n",
      " description  | null                 \n",
      " county       | null                 \n",
      " state        | az                   \n",
      " lat          | null                 \n",
      " long         | null                 \n",
      " posting_date | null                 \n",
      "only showing top 1 row\n",
      "\n"
     ]
    }
   ],
   "source": [
    "raw_df.show(1, vertical = True)"
   ]
  },
  {
   "cell_type": "markdown",
   "id": "d3d26ca3-a73d-4ee9-8239-633bba7633b0",
   "metadata": {},
   "source": [
    "We can check the data types for consecutive columns:"
   ]
  },
  {
   "cell_type": "code",
   "execution_count": 8,
   "id": "76e53a78-9c90-426b-ae91-96317d55d79f",
   "metadata": {},
   "outputs": [
    {
     "name": "stdout",
     "output_type": "stream",
     "text": [
      "root\n",
      " |-- id: double (nullable = true)\n",
      " |-- url: string (nullable = true)\n",
      " |-- region: string (nullable = true)\n",
      " |-- region_url: string (nullable = true)\n",
      " |-- price: integer (nullable = true)\n",
      " |-- year: integer (nullable = true)\n",
      " |-- manufacturer: string (nullable = true)\n",
      " |-- model: string (nullable = true)\n",
      " |-- condition: string (nullable = true)\n",
      " |-- cylinders: string (nullable = true)\n",
      " |-- fuel: string (nullable = true)\n",
      " |-- odometer: double (nullable = true)\n",
      " |-- title_status: string (nullable = true)\n",
      " |-- transmission: string (nullable = true)\n",
      " |-- VIN: string (nullable = true)\n",
      " |-- drive: string (nullable = true)\n",
      " |-- size: string (nullable = true)\n",
      " |-- type: string (nullable = true)\n",
      " |-- paint_color: string (nullable = true)\n",
      " |-- image_url: string (nullable = true)\n",
      " |-- description: string (nullable = true)\n",
      " |-- county: string (nullable = true)\n",
      " |-- state: string (nullable = true)\n",
      " |-- lat: double (nullable = true)\n",
      " |-- long: double (nullable = true)\n",
      " |-- posting_date: date (nullable = true)\n",
      "\n"
     ]
    }
   ],
   "source": [
    "raw_df.printSchema()"
   ]
  },
  {
   "cell_type": "markdown",
   "id": "846a2226-ca03-44c5-9f65-f76e830ea86d",
   "metadata": {},
   "source": [
    "## Select rows where manufacturer, model, and price are provided\n",
    "\n",
    "As it could be seen above some offers do not provide even basic info about the car. Let's create new DataFrame were only records with provided manufacturer, model and price are stored."
   ]
  },
  {
   "cell_type": "code",
   "execution_count": 9,
   "id": "100dd0d8-49d6-48f1-84b5-082413c9bdd3",
   "metadata": {},
   "outputs": [
    {
     "name": "stdout",
     "output_type": "stream",
     "text": [
      "+-------------+--------------------+------+--------------------+-----+----+------------+--------------------+---------+-----------+----+--------+------------+------------+-----------------+-----+---------+------+-----------+--------------------+--------------------+------+-----+-------+----------+------------+\n",
      "|           id|                 url|region|          region_url|price|year|manufacturer|               model|condition|  cylinders|fuel|odometer|title_status|transmission|              VIN|drive|     size|  type|paint_color|           image_url|         description|county|state|    lat|      long|posting_date|\n",
      "+-------------+--------------------+------+--------------------+-----+----+------------+--------------------+---------+-----------+----+--------+------------+------------+-----------------+-----+---------+------+-----------+--------------------+--------------------+------+-----+-------+----------+------------+\n",
      "|7.316814884E9|https://auburn.cr...|auburn|https://auburn.cr...|33590|2014|         gmc|sierra 1500 crew ...|     good|8 cylinders| gas| 57923.0|       clean|       other|3GTP1VEC4EG551563| null|     null|pickup|      white|https://images.cr...|Carvana is the sa...|  null|   al|  32.59|    -85.48|  2021-05-04|\n",
      "|7.316814758E9|https://auburn.cr...|auburn|https://auburn.cr...|22590|2010|   chevrolet|      silverado 1500|     good|8 cylinders| gas| 71229.0|       clean|       other|1GCSCSE06AZ123805| null|     null|pickup|       blue|https://images.cr...|Carvana is the sa...|  null|   al|  32.59|    -85.48|  2021-05-04|\n",
      "|7.316814989E9|https://auburn.cr...|auburn|https://auburn.cr...|39590|2020|   chevrolet| silverado 1500 crew|     good|8 cylinders| gas| 19160.0|       clean|       other|3GCPWCED5LG130317| null|     null|pickup|        red|https://images.cr...|Carvana is the sa...|  null|   al|  32.59|    -85.48|  2021-05-04|\n",
      "|7.316743432E9|https://auburn.cr...|auburn|https://auburn.cr...|30990|2017|      toyota|tundra double cab sr|     good|8 cylinders| gas| 41124.0|       clean|       other|5TFRM5F17HX120972| null|     null|pickup|        red|https://images.cr...|Carvana is the sa...|  null|   al|  32.59|    -85.48|  2021-05-04|\n",
      "|7.316356412E9|https://auburn.cr...|auburn|https://auburn.cr...|15000|2013|        ford|           f-150 xlt|excellent|6 cylinders| gas|128000.0|       clean|   automatic|             null|  rwd|full-size| truck|      black|https://images.cr...|2013 F-150 XLT V6...|  null|   al| 32.592|  -85.5189|  2021-05-03|\n",
      "|7.316343444E9|https://auburn.cr...|auburn|https://auburn.cr...|27990|2012|         gmc|sierra 2500 hd ex...|     good|8 cylinders| gas| 68696.0|       clean|       other|1GT220CG8CZ231238|  4wd|     null|pickup|      black|https://images.cr...|Carvana is the sa...|  null|   al|  32.59|    -85.48|  2021-05-03|\n",
      "|7.316304717E9|https://auburn.cr...|auburn|https://auburn.cr...|34590|2016|   chevrolet|silverado 1500 do...|     good|6 cylinders| gas| 29499.0|       clean|       other|1GCVKREH6GZ228691|  4wd|     null|pickup|     silver|https://images.cr...|Carvana is the sa...|  null|   al|  32.59|    -85.48|  2021-05-03|\n",
      "|7.316285779E9|https://auburn.cr...|auburn|https://auburn.cr...|35000|2019|      toyota|              tacoma|excellent|6 cylinders| gas| 43000.0|       clean|   automatic|             null|  4wd|     null| truck|       grey|https://images.cr...|Selling my 2019 T...|  null|   al|32.6013|-85.443974|  2021-05-03|\n",
      "|7.316257769E9|https://auburn.cr...|auburn|https://auburn.cr...|29990|2016|   chevrolet|colorado extended...|     good|6 cylinders| gas| 17302.0|       clean|       other|1GCHTCE37G1186784|  4wd|     null|pickup|        red|https://images.cr...|Carvana is the sa...|  null|   al|  32.59|    -85.48|  2021-05-03|\n",
      "|7.316133914E9|https://auburn.cr...|auburn|https://auburn.cr...|38590|2011|   chevrolet|corvette grand sport|     good|8 cylinders| gas| 30237.0|       clean|       other|1G1YR3DW3B5102190|  rwd|     null| other|        red|https://images.cr...|Carvana is the sa...|  null|   al|  32.59|    -85.48|  2021-05-03|\n",
      "+-------------+--------------------+------+--------------------+-----+----+------------+--------------------+---------+-----------+----+--------+------------+------------+-----------------+-----+---------+------+-----------+--------------------+--------------------+------+-----+-------+----------+------------+\n",
      "only showing top 10 rows\n",
      "\n"
     ]
    }
   ],
   "source": [
    "from pyspark.sql.functions import col\n",
    "df = raw_df.where(col(\"manufacturer\").isNotNull() & col(\"model\").isNotNull() & col(\"price\").isNotNull())\n",
    "df.show(10)"
   ]
  },
  {
   "cell_type": "markdown",
   "id": "21464cc7-eec2-4cba-95f0-06d43653e981",
   "metadata": {},
   "source": [
    "Number of rows in this new DataFrame:"
   ]
  },
  {
   "cell_type": "code",
   "execution_count": 10,
   "id": "299f8c04-f3f9-4192-9416-fcaecdbfffd2",
   "metadata": {},
   "outputs": [
    {
     "data": {
      "text/plain": [
       "404022"
      ]
     },
     "execution_count": 10,
     "metadata": {},
     "output_type": "execute_result"
    }
   ],
   "source": [
    "df.count()"
   ]
  },
  {
   "cell_type": "markdown",
   "id": "b171bbbb-adbc-4757-a92f-402258c5d28d",
   "metadata": {},
   "source": [
    "Let's see the first record in vertical mode:"
   ]
  },
  {
   "cell_type": "code",
   "execution_count": 11,
   "id": "f88cc9e5-63c7-47fe-beba-7cd07eaff9e6",
   "metadata": {},
   "outputs": [
    {
     "name": "stdout",
     "output_type": "stream",
     "text": [
      "-RECORD 0----------------------------\n",
      " id           | 7.316814884E9        \n",
      " url          | https://auburn.cr... \n",
      " region       | auburn               \n",
      " region_url   | https://auburn.cr... \n",
      " price        | 33590                \n",
      " year         | 2014                 \n",
      " manufacturer | gmc                  \n",
      " model        | sierra 1500 crew ... \n",
      " condition    | good                 \n",
      " cylinders    | 8 cylinders          \n",
      " fuel         | gas                  \n",
      " odometer     | 57923.0              \n",
      " title_status | clean                \n",
      " transmission | other                \n",
      " VIN          | 3GTP1VEC4EG551563    \n",
      " drive        | null                 \n",
      " size         | null                 \n",
      " type         | pickup               \n",
      " paint_color  | white                \n",
      " image_url    | https://images.cr... \n",
      " description  | Carvana is the sa... \n",
      " county       | null                 \n",
      " state        | al                   \n",
      " lat          | 32.59                \n",
      " long         | -85.48               \n",
      " posting_date | 2021-05-04           \n",
      "only showing top 1 row\n",
      "\n"
     ]
    }
   ],
   "source": [
    "df.show(1, vertical = True)"
   ]
  },
  {
   "cell_type": "markdown",
   "id": "6f8f78df-6f80-4979-8642-19932d0b726d",
   "metadata": {},
   "source": [
    "Let's also sample a random record. We will use the following methods: [sample](https://spark.apache.org/docs/latest/api/python/reference/api/pyspark.sql.DataFrame.sample.html), [limit](https://spark.apache.org/docs/latest/api/python/reference/api/pyspark.sql.DataFrame.limit.html)."
   ]
  },
  {
   "cell_type": "code",
   "execution_count": 12,
   "id": "e8b86468-837e-4f7a-a6ab-e28c5a611cf1",
   "metadata": {},
   "outputs": [
    {
     "name": "stdout",
     "output_type": "stream",
     "text": [
      "-RECORD 0----------------------------\n",
      " id           | 7.313451714E9        \n",
      " url          | https://dothan.cr... \n",
      " region       | dothan               \n",
      " region_url   | https://dothan.cr... \n",
      " price        | 27990                \n",
      " year         | 2012                 \n",
      " manufacturer | toyota               \n",
      " model        | tacoma double cab... \n",
      " condition    | good                 \n",
      " cylinders    | 6 cylinders          \n",
      " fuel         | gas                  \n",
      " odometer     | 67245.0              \n",
      " title_status | clean                \n",
      " transmission | other                \n",
      " VIN          | 5TFLU4EN4CX030112    \n",
      " drive        | 4wd                  \n",
      " size         | null                 \n",
      " type         | pickup               \n",
      " paint_color  | silver               \n",
      " image_url    | https://images.cr... \n",
      " description  | Carvana is the sa... \n",
      " county       | null                 \n",
      " state        | al                   \n",
      " lat          | 31.23                \n",
      " long         | -85.4                \n",
      " posting_date | 2021-04-27           \n",
      "\n"
     ]
    }
   ],
   "source": [
    "df.sample(0.001).limit(1).show(vertical = True)"
   ]
  },
  {
   "cell_type": "markdown",
   "id": "9f251270-11a1-40f1-b369-241e635af50d",
   "metadata": {},
   "source": [
    "## Show distinct manufacturers\n",
    "\n",
    "First we are going to create a [temporary view](https://spark.apache.org/docs/latest/api/python/reference/api/pyspark.sql.DataFrame.createOrReplaceTempView.html)."
   ]
  },
  {
   "cell_type": "code",
   "execution_count": 27,
   "id": "57549c53-b5ce-4c20-9b61-070e9a385d36",
   "metadata": {},
   "outputs": [],
   "source": [
    "df.createOrReplaceTempView(\"table_df\")"
   ]
  },
  {
   "cell_type": "code",
   "execution_count": 50,
   "id": "ac4078d4-506d-48c4-8de8-27ce32914e99",
   "metadata": {},
   "outputs": [
    {
     "name": "stdout",
     "output_type": "stream",
     "text": [
      "+---------------+----------+------------------+----------+---------+\n",
      "|   manufacturer|occurances|         avg_price| max_price|min_price|\n",
      "+---------------+----------+------------------+----------+---------+\n",
      "|           ford|     70269| 36616.24484481066|1111111111|        0|\n",
      "|      chevrolet|     54151|23654.187291093425| 123456789|        0|\n",
      "|         toyota|     33942|15839.777267102705|    131500|        0|\n",
      "|          honda|     21155|10786.607846844718|    123456|        0|\n",
      "|         nissan|     18948| 18913.03562381254| 135008900|        0|\n",
      "|           jeep|     18873|  92880.9424044932|1410065407|        0|\n",
      "|            ram|     17367|28358.096389704613|  17000000|        0|\n",
      "|            gmc|     16576|30614.966155888033| 123456789|        0|\n",
      "|            bmw|     14584| 19036.12260010971|    138000|        0|\n",
      "|          dodge|     13438|14765.301830629558|   6995495|        0|\n",
      "|  mercedes-benz|     11694| 19519.11894988883|    990000|        0|\n",
      "|        hyundai|     10278|10752.323603813971|     50000|        0|\n",
      "|         subaru|      9457|13075.302527228509|    195000|        0|\n",
      "|     volkswagen|      9260|12583.162958963283|    149000|        0|\n",
      "|            kia|      8415|11113.018419489008|     55325|        0|\n",
      "|          lexus|      8150|19259.542699386504|    114950|        0|\n",
      "|           audi|      7532|23405.218268720128|    160000|        0|\n",
      "|       cadillac|      6880| 19532.89476744186|    195000|        0|\n",
      "|       chrysler|      5981|10483.984617956863|    655000|        0|\n",
      "|          acura|      5948|19915.748823133825|    139999|        0|\n",
      "|          buick|      5447| 36993.38186157518| 123456789|        0|\n",
      "|          mazda|      5391|12388.829159710629|     45000|        0|\n",
      "|       infiniti|      4773|19650.850827571758|     69995|        0|\n",
      "|        lincoln|      4174|19933.444896981313|   1234567|        0|\n",
      "|          volvo|      3278|394664.49389871873|1234567890|        0|\n",
      "|     mitsubishi|      3277|13766.353066829417|     39999|        0|\n",
      "|           mini|      2361|14185.116899618806|     42500|        0|\n",
      "|        pontiac|      2248| 8138.923487544484|     98000|        0|\n",
      "|         jaguar|      1921|26761.590838105152|    150000|        0|\n",
      "|          rover|      1807|26575.087437742113|    129888|        0|\n",
      "|        porsche|      1351|32215.638786084382|    304995|        0|\n",
      "|        mercury|      1165| 5318.066094420601|     60000|        0|\n",
      "|         saturn|      1070| 6953.099065420561|   2000000|        0|\n",
      "|     alfa-romeo|       897| 28237.34894091416|     62950|        0|\n",
      "|          tesla|       852| 37967.50352112676|    104990|        0|\n",
      "|           fiat|       787|11919.855146124524|     32500|        0|\n",
      "|harley-davidson|       141|12385.964539007093|     39900|        0|\n",
      "|        ferrari|        77|114749.09090909091|    449500|        0|\n",
      "|         datsun|        62|15393.725806451614|     30000|        1|\n",
      "|   aston-martin|        24|53494.541666666664|    179888|        0|\n",
      "|     land rover|        21|7911.0952380952385|     55000|        0|\n",
      "+---------------+----------+------------------+----------+---------+\n",
      "\n"
     ]
    }
   ],
   "source": [
    "spark.sql(\"SELECT manufacturer, count(*) AS occurances, \\\n",
    "    AVG(price) AS avg_price, \\\n",
    "    MAX(price) AS max_price, \\\n",
    "    MIN(price) AS min_price \\\n",
    "    FROM table_df \\\n",
    "    GROUP BY manufacturer \\\n",
    "    ORDER BY occurances DESC\").show(100)"
   ]
  },
  {
   "cell_type": "code",
   "execution_count": 51,
   "id": "9962a6cc-eb2e-47f1-a3a3-18ab5a815605",
   "metadata": {
    "tags": []
   },
   "outputs": [
    {
     "name": "stdout",
     "output_type": "stream",
     "text": [
      "+---------------+------------------+-----------------------------+\n",
      "|   manufacturer|        avg(price)|stddev(CAST(price AS DOUBLE))|\n",
      "+---------------+------------------+-----------------------------+\n",
      "|         jaguar|26761.590838105152|           15486.088436083777|\n",
      "|          buick| 36993.38186157518|           1672617.0299815973|\n",
      "|     land rover|7911.0952380952385|            15025.62842580889|\n",
      "|     mitsubishi|13766.353066829417|             9285.72397067099|\n",
      "|        pontiac| 8138.923487544484|            9421.648531995548|\n",
      "|          lexus|19259.542699386504|           12619.053652702445|\n",
      "|         toyota|15839.777267102705|           13089.547326712098|\n",
      "|       chrysler|10483.984617956863|           14699.215883897876|\n",
      "|          tesla| 37967.50352112676|           15207.115049401118|\n",
      "|        lincoln|19933.444896981313|             23634.3541355372|\n",
      "|           audi|23405.218268720128|           15466.816180943159|\n",
      "|         datsun|15393.725806451614|            9549.644412175527|\n",
      "|            bmw| 19036.12260010971|           13726.258614724806|\n",
      "|           jeep|  92880.9424044932|         1.0263932178692713E7|\n",
      "|          dodge|14765.301830629558|           62476.555451733046|\n",
      "|          rover|26575.087437742113|            19469.34251910804|\n",
      "|        hyundai|10752.323603813971|            7720.837081650089|\n",
      "|           ford| 36616.24484481066|            4208623.572091618|\n",
      "|     alfa-romeo| 28237.34894091416|            8042.396149370959|\n",
      "|       cadillac| 19532.89476744186|           15867.259940336859|\n",
      "|            ram|28358.096389704613|           130031.82866951694|\n",
      "|          mazda|12388.829159710629|            9624.326149205524|\n",
      "|        ferrari|114749.09090909091|              94271.404299694|\n",
      "|            kia|11113.018419489008|            8314.926542572954|\n",
      "|  mercedes-benz| 19519.11894988883|           20256.620554931393|\n",
      "|        porsche|32215.638786084382|            30515.36775039784|\n",
      "|   aston-martin|53494.541666666664|            48110.93388245199|\n",
      "|         saturn| 6953.099065420561|           61131.952555909265|\n",
      "|      chevrolet|23654.187291093425|            759519.2669453905|\n",
      "|          honda|10786.607846844718|            8741.561304877247|\n",
      "|           mini|14185.116899618806|             9631.35412302488|\n",
      "|           fiat|11919.855146124524|            7325.533429889307|\n",
      "|     volkswagen|12583.162958963283|            9112.570121363804|\n",
      "|        mercury| 5318.066094420601|            5435.726425680141|\n",
      "|harley-davidson|12385.964539007093|            7655.513645556709|\n",
      "|          acura|19915.748823133825|           13504.731571976243|\n",
      "|            gmc|30614.966155888033|            958924.5063393442|\n",
      "|       infiniti|19650.850827571758|           12021.695684708875|\n",
      "|         nissan| 18913.03562381254|            980766.5954179975|\n",
      "|         subaru|13075.302527228509|            9534.981742792814|\n",
      "|          volvo|394664.49389871873|          2.156275553972817E7|\n",
      "+---------------+------------------+-----------------------------+\n",
      "\n"
     ]
    }
   ],
   "source": [
    "avg_df = spark.sql(\"SELECT manufacturer, AVG(price), STDDEV(price) \\\n",
    "    FROM table_df \\\n",
    "    GROUP BY manufacturer\").show(100)"
   ]
  },
  {
   "cell_type": "code",
   "execution_count": null,
   "id": "e318107d-3045-4e52-89d3-e1cc2a07f6c5",
   "metadata": {},
   "outputs": [],
   "source": []
  }
 ],
 "metadata": {
  "kernelspec": {
   "display_name": "Python 3",
   "language": "python",
   "name": "python3"
  },
  "language_info": {
   "codemirror_mode": {
    "name": "ipython",
    "version": 3
   },
   "file_extension": ".py",
   "mimetype": "text/x-python",
   "name": "python",
   "nbconvert_exporter": "python",
   "pygments_lexer": "ipython3",
   "version": "3.9.1"
  }
 },
 "nbformat": 4,
 "nbformat_minor": 5
}
